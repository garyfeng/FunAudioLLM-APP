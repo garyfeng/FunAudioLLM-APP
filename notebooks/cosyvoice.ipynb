{
 "cells": [
  {
   "cell_type": "code",
   "execution_count": 15,
   "id": "b546e000-5fd3-4294-b69d-95231ba357f4",
   "metadata": {},
   "outputs": [
    {
     "name": "stdout",
     "output_type": "stream",
     "text": [
      "Collecting pydantic==1.9.1\n",
      "  Downloading pydantic-1.9.1-cp310-cp310-manylinux_2_17_x86_64.manylinux2014_x86_64.whl.metadata (126 kB)\n",
      "\u001b[2K     \u001b[90m━━━━━━━━━━━━━━━━━━━━━━━━━━━━━━━━━━━━━━━\u001b[0m \u001b[32m126.4/126.4 kB\u001b[0m \u001b[31m2.4 MB/s\u001b[0m eta \u001b[36m0:00:00\u001b[0ma \u001b[36m0:00:01\u001b[0m\n",
      "\u001b[?25hRequirement already satisfied: typing-extensions>=3.7.4.3 in /opt/conda/lib/python3.10/site-packages (from pydantic==1.9.1) (4.11.0)\n",
      "Downloading pydantic-1.9.1-cp310-cp310-manylinux_2_17_x86_64.manylinux2014_x86_64.whl (12.0 MB)\n",
      "\u001b[2K   \u001b[90m━━━━━━━━━━━━━━━━━━━━━━━━━━━━━━━━━━━━━━━━\u001b[0m \u001b[32m12.0/12.0 MB\u001b[0m \u001b[31m11.6 MB/s\u001b[0m eta \u001b[36m0:00:00\u001b[0m00:01\u001b[0m00:01\u001b[0m\n",
      "\u001b[?25hInstalling collected packages: pydantic\n",
      "\u001b[31mERROR: pip's dependency resolver does not currently take into account all the packages that are installed. This behaviour is the source of the following dependency conflicts.\n",
      "gradio 4.32.2 requires pydantic>=2.0, but you have pydantic 1.9.1 which is incompatible.\u001b[0m\u001b[31m\n",
      "\u001b[0mSuccessfully installed pydantic-1.9.1\n",
      "\u001b[33mWARNING: Running pip as the 'root' user can result in broken permissions and conflicting behaviour with the system package manager. It is recommended to use a virtual environment instead: https://pip.pypa.io/warnings/venv\u001b[0m\u001b[33m\n",
      "\u001b[0m"
     ]
    }
   ],
   "source": [
    "#! pip uninstall pydantic\n",
    "! pip install pydantic==1.9.1"
   ]
  },
  {
   "cell_type": "code",
   "execution_count": 1,
   "id": "23b6aa51-72a3-40e8-a1e4-745d2d544743",
   "metadata": {},
   "outputs": [
    {
     "name": "stderr",
     "output_type": "stream",
     "text": [
      "OpenBLAS WARNING - could not determine the L2 cache size on this system, assuming 256k\n"
     ]
    }
   ],
   "source": [
    "import re\n",
    "\n",
    "# import gradio as gr\n",
    "import torch\n",
    "import os\n",
    "from http import HTTPStatus"
   ]
  },
  {
   "cell_type": "code",
   "execution_count": 2,
   "id": "ddb78480-c569-475b-9bb4-83cf9b53ce0b",
   "metadata": {},
   "outputs": [
    {
     "name": "stderr",
     "output_type": "stream",
     "text": [
      "2024-07-16 17:01:40,289 - modelscope - INFO - PyTorch version 2.0.1+cu118 Found.\n",
      "2024-07-16 17:01:40,293 - modelscope - INFO - Loading ast index from /root/.cache/modelscope/ast_indexer\n",
      "2024-07-16 17:01:40,426 - modelscope - INFO - Loading done! Current index file version is 1.15.0, with md5 40ec4eed096390f85b2eab2ed534f1b1 and a total number of 980 components indexed\n"
     ]
    },
    {
     "name": "stdout",
     "output_type": "stream",
     "text": [
      "transformer is not installed, please install it if you want to use related modules\n"
     ]
    }
   ],
   "source": [
    "from typing import List, Optional, Tuple, Dict\n",
    "from uuid import uuid4\n",
    "from modelscope import HubApi\n",
    "import torchaudio\n",
    "import sys\n",
    "sys.path.insert(1, \"../cosyvoice\")\n",
    "sys.path.insert(1, \"../sensevoice\")\n",
    "sys.path.insert(1, \"../cosyvoice/third_party/AcademiCodec\")\n",
    "sys.path.insert(1, \"../cosyvoice/third_party/Matcha-TTS\")\n",
    "sys.path.insert(1, \"../\")\n",
    "from utils.rich_format_small import format_str_v2\n",
    "# from cosyvoice.cli.cosyvoice import CosyVoice\n",
    "# from cosyvoice.utils.file_utils import load_wav\n",
    "# from funasr import AutoModel"
   ]
  },
  {
   "cell_type": "code",
   "execution_count": 3,
   "id": "425b7912-6121-420d-921a-c3e11fb0bf9e",
   "metadata": {},
   "outputs": [
    {
     "name": "stderr",
     "output_type": "stream",
     "text": [
      "2024-07-15 21:40:31,318 - modelscope - WARNING - Model revision not specified, use revision: v1.0.2\n",
      "Downloading: 100%|████████████████████████████████████████████████████████████████████████████████████████████████████████████████████████| 167/167 [00:01<00:00, 161B/s]\n",
      "Downloading: 100%|████████████████████████████████████████████████████████████████████████████████████████████████████████████████████████| 997/997 [00:01<00:00, 956B/s]\n",
      "Downloading: 100%|████████████████████████████████████████████████████████████████████████████████████████████████████████████████████| 248M/248M [00:34<00:00, 7.59MB/s]\n",
      "Downloading: 100%|█████████████████████████████████████████████████████████████████████████████████████████████████████████████████████| 8.00/8.00 [00:00<00:00, 8.71B/s]\n"
     ]
    },
    {
     "data": {
      "text/plain": [
       "'pretrained_models/speech_kantts_ttsfrd'"
      ]
     },
     "execution_count": 3,
     "metadata": {},
     "output_type": "execute_result"
    }
   ],
   "source": [
    "from modelscope import snapshot_download\n",
    "# snapshot_download('iic/CosyVoice-300M', local_dir='pretrained_models/CosyVoice-300M')\n",
    "# snapshot_download('iic/CosyVoice-300M-SFT', local_dir='pretrained_models/CosyVoice-300M-SFT')\n",
    "# snapshot_download('iic/CosyVoice-300M-Instruct', local_dir='pretrained_models/CosyVoice-300M-Instruct')\n",
    "snapshot_download('speech_tts/speech_kantts_ttsfrd', local_dir='pretrained_models/speech_kantts_ttsfrd')\n"
   ]
  },
  {
   "cell_type": "markdown",
   "id": "51065026-da8d-45ed-9377-4b86f6a1f534",
   "metadata": {},
   "source": [
    "(base) root@283739c295ed:/home/jovyan/work/pretrained_models/speech_kantts_ttsfrd# pip install ttsfrd-0.3.6-cp38-cp38-linux_x86_64.whl\n",
    "ERROR: ttsfrd-0.3.6-cp38-cp38-linux_x86_64.whl is not a supported wheel on this platform.\n",
    "(base) root@283739c295ed:/home/jovyan/work/pretrained_models/speech_kantts_ttsfrd# wget https://www.modelscope.cn/models/speech_tts/speech_kantts_ttsfrd/resolve/master/ttsfrd-0.3.9-cp310-cp310-linux_x86_64.whl\n",
    "--2024-07-15 21:43:47--  https://www.modelscope.cn/models/speech_tts/speech_kantts_ttsfrd/resolve/master/ttsfrd-0.3.9-cp310-cp310-linux_x86_64.whl\n",
    "Resolving www.modelscope.cn (www.modelscope.cn)... 47.251.62.57\n",
    "Connecting to www.modelscope.cn (www.modelscope.cn)|47.251.62.57|:443... connected.\n",
    "HTTP request sent, awaiting response... 200 OK\n",
    "Length: 4005795 (3.8M) [application/octet-stream]\n",
    "Saving to: ‘ttsfrd-0.3.9-cp310-cp310-linux_x86_64.whl’\n",
    "\n",
    "ttsfrd-0.3.9-cp310-cp310-linux_x86_64.whl         100%[=============================================================================================================>]   3.82M  2.34MB/s    in 1.6s    \n",
    "\n",
    "2024-07-15 21:43:51 (2.34 MB/s) - ‘ttsfrd-0.3.9-cp310-cp310-linux_x86_64.whl’ saved [4005795/4005795]\n",
    "\n",
    "(base) root@283739c295ed:/home/jovyan/work/pretrained_models/speech_kantts_ttsfrd# ls\n",
    "README.md  VERSION  configuration.json  resource  resource.zip  ttsfrd-0.3.6-cp38-cp38-linux_x86_64.whl  ttsfrd-0.3.9-cp310-cp310-linux_x86_64.whl\n",
    "(base) root@283739c295ed:/home/jovyan/work/pretrained_models/speech_kantts_ttsfrd# pip install ttsfrd-0.3.9-cp310-cp310-linux_x86_64.whl\n",
    "Processing ./ttsfrd-0.3.9-cp310-cp310-linux_x86_64.whl\n",
    "Installing collected packages: ttsfrd\n",
    "Successfully installed ttsfrd-0.3.9\n",
    "WARNING: Running pip as the 'root' user can result in broken permissions and conflicting behaviour with the system package manager. It is recommended to use a virtual environment instead: https://pip.pypa.io/warnings/venv\n",
    "(base) root@283739c295ed:/home/jovyan/work/pretrained_models/speech_kantts_ttsfrd# "
   ]
  },
  {
   "cell_type": "code",
   "execution_count": 3,
   "id": "92f8f23f-be6a-4747-8144-db05928fa1f1",
   "metadata": {},
   "outputs": [
    {
     "ename": "ImportError",
     "evalue": "/opt/conda/lib/python3.10/site-packages/ttsfrd.cpython-310-x86_64-linux-gnu.so: undefined symbol: _ZN3re212re2_internal5ParseISsEEbPKcmPT_",
     "output_type": "error",
     "traceback": [
      "\u001b[0;31m---------------------------------------------------------------------------\u001b[0m",
      "\u001b[0;31mImportError\u001b[0m                               Traceback (most recent call last)",
      "Cell \u001b[0;32mIn[3], line 1\u001b[0m\n\u001b[0;32m----> 1\u001b[0m \u001b[38;5;28;01mfrom\u001b[39;00m \u001b[38;5;21;01mcosyvoice\u001b[39;00m\u001b[38;5;21;01m.\u001b[39;00m\u001b[38;5;21;01mcli\u001b[39;00m\u001b[38;5;21;01m.\u001b[39;00m\u001b[38;5;21;01mcosyvoice\u001b[39;00m \u001b[38;5;28;01mimport\u001b[39;00m CosyVoice\n\u001b[1;32m      2\u001b[0m \u001b[38;5;28;01mfrom\u001b[39;00m \u001b[38;5;21;01mcosyvoice\u001b[39;00m\u001b[38;5;21;01m.\u001b[39;00m\u001b[38;5;21;01mutils\u001b[39;00m\u001b[38;5;21;01m.\u001b[39;00m\u001b[38;5;21;01mfile_utils\u001b[39;00m \u001b[38;5;28;01mimport\u001b[39;00m load_wav\n\u001b[1;32m      3\u001b[0m \u001b[38;5;28;01mfrom\u001b[39;00m \u001b[38;5;21;01mfunasr\u001b[39;00m \u001b[38;5;28;01mimport\u001b[39;00m AutoModel\n",
      "File \u001b[0;32m/home/jovyan/work/notebooks/../cosyvoice/cosyvoice/cli/cosyvoice.py:18\u001b[0m\n\u001b[1;32m     16\u001b[0m \u001b[38;5;28;01mfrom\u001b[39;00m \u001b[38;5;21;01mhyperpyyaml\u001b[39;00m \u001b[38;5;28;01mimport\u001b[39;00m load_hyperpyyaml\n\u001b[1;32m     17\u001b[0m \u001b[38;5;28;01mfrom\u001b[39;00m \u001b[38;5;21;01mmodelscope\u001b[39;00m \u001b[38;5;28;01mimport\u001b[39;00m snapshot_download\n\u001b[0;32m---> 18\u001b[0m \u001b[38;5;28;01mfrom\u001b[39;00m \u001b[38;5;21;01mcosyvoice\u001b[39;00m\u001b[38;5;21;01m.\u001b[39;00m\u001b[38;5;21;01mcli\u001b[39;00m\u001b[38;5;21;01m.\u001b[39;00m\u001b[38;5;21;01mfrontend\u001b[39;00m \u001b[38;5;28;01mimport\u001b[39;00m CosyVoiceFrontEnd\n\u001b[1;32m     19\u001b[0m \u001b[38;5;28;01mfrom\u001b[39;00m \u001b[38;5;21;01mcosyvoice\u001b[39;00m\u001b[38;5;21;01m.\u001b[39;00m\u001b[38;5;21;01mcli\u001b[39;00m\u001b[38;5;21;01m.\u001b[39;00m\u001b[38;5;21;01mmodel\u001b[39;00m \u001b[38;5;28;01mimport\u001b[39;00m CosyVoiceModel\n\u001b[1;32m     21\u001b[0m \u001b[38;5;28;01mclass\u001b[39;00m \u001b[38;5;21;01mCosyVoice\u001b[39;00m:\n",
      "File \u001b[0;32m/home/jovyan/work/notebooks/../cosyvoice/cosyvoice/cli/frontend.py:24\u001b[0m\n\u001b[1;32m     22\u001b[0m \u001b[38;5;28;01mimport\u001b[39;00m \u001b[38;5;21;01mos\u001b[39;00m\n\u001b[1;32m     23\u001b[0m \u001b[38;5;28;01mimport\u001b[39;00m \u001b[38;5;21;01minflect\u001b[39;00m\n\u001b[0;32m---> 24\u001b[0m \u001b[38;5;28;01mimport\u001b[39;00m \u001b[38;5;21;01mttsfrd\u001b[39;00m\n\u001b[1;32m     25\u001b[0m \u001b[38;5;28;01mfrom\u001b[39;00m \u001b[38;5;21;01mcosyvoice\u001b[39;00m\u001b[38;5;21;01m.\u001b[39;00m\u001b[38;5;21;01mutils\u001b[39;00m\u001b[38;5;21;01m.\u001b[39;00m\u001b[38;5;21;01mfrontend_utils\u001b[39;00m \u001b[38;5;28;01mimport\u001b[39;00m contains_chinese, replace_blank, replace_corner_mark, remove_bracket, spell_out_number, split_paragraph\n\u001b[1;32m     28\u001b[0m \u001b[38;5;28;01mclass\u001b[39;00m \u001b[38;5;21;01mCosyVoiceFrontEnd\u001b[39;00m:\n",
      "\u001b[0;31mImportError\u001b[0m: /opt/conda/lib/python3.10/site-packages/ttsfrd.cpython-310-x86_64-linux-gnu.so: undefined symbol: _ZN3re212re2_internal5ParseISsEEbPKcmPT_"
     ]
    }
   ],
   "source": [
    "from cosyvoice.cli.cosyvoice import CosyVoice\n",
    "from cosyvoice.utils.file_utils import load_wav\n",
    "from funasr import AutoModel"
   ]
  },
  {
   "cell_type": "code",
   "execution_count": 5,
   "id": "c86b9802-f0d2-409f-a88b-ab26b6db5021",
   "metadata": {},
   "outputs": [],
   "source": [
    "sys.path.insert(1, \"/usr/local/lib/\")\n"
   ]
  },
  {
   "cell_type": "markdown",
   "id": "b87c3623-851b-46de-be4b-60a9f2b6b6f0",
   "metadata": {},
   "source": [
    "Well,this is going nowhere. Let's go back to the Cosyvoice default ttsfrd model at https://www.modelscope.cn/models/iic/CosyVoice-ttsfrd/files\n",
    "```\n",
    "wget https://www.modelscope.cn/models/iic/CosyVoice-ttsfrd/resolve/master/ttsfrd-0.3.6-cp38-cp38-linux_x86_64.whl\n",
    "pip install ttsfrd-0.3.6-cp38-cp38-linux_x86_64.whl \n",
    "```\n",
    "\n",
    "This gives the following error:\n",
    "`ERROR: ttsfrd-0.3.6-cp38-cp38-linux_x86_64.whl is not a supported wheel on this platform.`\n",
    "\n",
    "We need to use Python 3.8, not the 3.10 we have. "
   ]
  },
  {
   "cell_type": "code",
   "execution_count": null,
   "id": "4389a031-416a-4b41-a3d9-2424eac12ed1",
   "metadata": {},
   "outputs": [],
   "source": []
  }
 ],
 "metadata": {
  "kernelspec": {
   "display_name": "Python 3 (ipykernel)",
   "language": "python",
   "name": "python3"
  },
  "language_info": {
   "codemirror_mode": {
    "name": "ipython",
    "version": 3
   },
   "file_extension": ".py",
   "mimetype": "text/x-python",
   "name": "python",
   "nbconvert_exporter": "python",
   "pygments_lexer": "ipython3",
   "version": "3.10.14"
  }
 },
 "nbformat": 4,
 "nbformat_minor": 5
}
