{
 "cells": [
  {
   "cell_type": "markdown",
   "id": "d5fb8a7f-aa1a-4968-b498-fb88ea7c1faf",
   "metadata": {},
   "source": [
    "# CosyVoice with Python 3.8\n",
    "\n",
    "Building:\n",
    "\n",
    "```sh\n",
    "docker build -t funaudiollm_cp38 .\n",
    "```\n",
    "\n",
    "\n",
    "Running:\n",
    "\n",
    "```sh\n",
    "docker run -v $(pwd):/home/jovyan/work  -p 8888:8888 -it funaudiollm_cp38 \n",
    "```"
   ]
  },
  {
   "cell_type": "code",
   "execution_count": 1,
   "id": "33e32ab6-30c8-448c-adc5-e16209b1e462",
   "metadata": {},
   "outputs": [
    {
     "name": "stderr",
     "output_type": "stream",
     "text": [
      "OpenBLAS WARNING - could not determine the L2 cache size on this system, assuming 256k\n",
      "2024-07-16 18:01:31,400 - modelscope - INFO - PyTorch version 2.0.1+cu118 Found.\n",
      "2024-07-16 18:01:31,404 - modelscope - INFO - Loading ast index from /root/.cache/modelscope/ast_indexer\n",
      "2024-07-16 18:01:31,556 - modelscope - INFO - Loading done! Current index file version is 1.15.0, with md5 d15cd5768f4968c94214dd6357f645b9 and a total number of 980 components indexed\n"
     ]
    },
    {
     "name": "stdout",
     "output_type": "stream",
     "text": [
      "transformer is not installed, please install it if you want to use related modules\n",
      "Notice: ffmpeg is not installed. torchaudio is used to load audio\n",
      "If you want to use ffmpeg backend to load audio, please install it by:\n",
      "\tsudo apt install ffmpeg # ubuntu\n",
      "\t# brew install ffmpeg # mac\n"
     ]
    },
    {
     "name": "stderr",
     "output_type": "stream",
     "text": [
      "OpenBLAS WARNING - could not determine the L2 cache size on this system, assuming 256k\n"
     ]
    }
   ],
   "source": [
    "import re\n",
    "\n",
    "# import gradio as gr\n",
    "import torch\n",
    "import os\n",
    "from http import HTTPStatus\n",
    "\n",
    "from typing import List, Optional, Tuple, Dict\n",
    "from uuid import uuid4\n",
    "from modelscope import HubApi\n",
    "import torchaudio\n",
    "import sys\n",
    "sys.path.insert(1, \"../cosyvoice\")\n",
    "sys.path.insert(1, \"../sensevoice\")\n",
    "sys.path.insert(1, \"../cosyvoice/third_party/AcademiCodec\")\n",
    "sys.path.insert(1, \"../cosyvoice/third_party/Matcha-TTS\")\n",
    "sys.path.insert(1, \"../\")\n",
    "from utils.rich_format_small import format_str_v2\n",
    "from cosyvoice.cli.cosyvoice import CosyVoice\n",
    "from cosyvoice.utils.file_utils import load_wav\n",
    "from funasr import AutoModel"
   ]
  },
  {
   "cell_type": "code",
   "execution_count": 2,
   "id": "425b7912-6121-420d-921a-c3e11fb0bf9e",
   "metadata": {},
   "outputs": [
    {
     "name": "stderr",
     "output_type": "stream",
     "text": [
      "Downloading: 100%|███████████████████████████████████████████████████████████████████████████████████████████████████████████████████| 27.0M/27.0M [01:03<00:00, 446kB/s]\n",
      "Downloading: 100%|█████████████████████████████████████████████████████████████████████████████████████████████████████████████████████| 47.0/47.0 [00:00<00:00, 48.4B/s]\n",
      "Downloading: 100%|██████████████████████████████████████████████████████████████████████████████████████████████████████████████████| 6.13k/6.13k [00:01<00:00, 5.61kB/s]\n",
      "Downloading: 100%|█████████████████████████████████████████████████████████████████████████████████████████████████████████████████████| 400M/400M [17:13<00:00, 406kB/s]\n",
      "Downloading: 100%|███████████████████████████████████████████████████████████████████████████████████████████████████████████████████| 78.1M/78.1M [03:21<00:00, 406kB/s]\n",
      "Downloading: 100%|██████████████████████████████████████████████████████████████████████████████████████████████████████████████████| 1.16G/1.16G [13:29<00:00, 1.54MB/s]\n",
      "Downloading: 100%|██████████████████████████████████████████████████████████████████████████████████████████████████████████████████| 6.71k/6.71k [00:00<00:00, 7.18kB/s]\n",
      "Downloading: 100%|████████████████████████████████████████████████████████████████████████████████████████████████████████████████████| 498M/498M [06:35<00:00, 1.32MB/s]\n",
      "Downloading: 100%|███████████████████████████████████████████████████████████████████████████████████████████████████████████████████| 1.26M/1.26M [00:02<00:00, 596kB/s]\n"
     ]
    },
    {
     "data": {
      "text/plain": [
       "'pretrained_models/CosyVoice-300M-Instruct'"
      ]
     },
     "execution_count": 2,
     "metadata": {},
     "output_type": "execute_result"
    }
   ],
   "source": [
    "from modelscope import snapshot_download\n",
    "# snapshot_download('iic/CosyVoice-300M', local_dir='pretrained_models/CosyVoice-300M')\n",
    "# snapshot_download('iic/CosyVoice-300M-SFT', local_dir='pretrained_models/CosyVoice-300M-SFT')\n",
    "snapshot_download('iic/CosyVoice-300M-Instruct', local_dir='pretrained_models/CosyVoice-300M-Instruct')\n",
    "# snapshot_download('iic/speech_kantts_ttsfrd', local_dir='pretrained_models/speech_kantts_ttsfrd')\n"
   ]
  },
  {
   "cell_type": "code",
   "execution_count": 3,
   "id": "4389a031-416a-4b41-a3d9-2424eac12ed1",
   "metadata": {},
   "outputs": [
    {
     "name": "stderr",
     "output_type": "stream",
     "text": [
      "Downloading: 100%|███████████████████████████████████████████████████████████████████████████████████████████████████████████████████| 27.0M/27.0M [01:07<00:00, 417kB/s]\n",
      "Downloading: 100%|█████████████████████████████████████████████████████████████████████████████████████████████████████████████████████| 47.0/47.0 [00:00<00:00, 51.7B/s]\n",
      "Downloading: 100%|██████████████████████████████████████████████████████████████████████████████████████████████████████████████████| 6.13k/6.13k [00:01<00:00, 5.86kB/s]\n",
      "Downloading: 100%|█████████████████████████████████████████████████████████████████████████████████████████████████████████████████████| 400M/400M [15:08<00:00, 462kB/s]\n",
      "Downloading: 100%|███████████████████████████████████████████████████████████████████████████████████████████████████████████████████| 78.1M/78.1M [02:16<00:00, 599kB/s]\n",
      "Downloading: 100%|██████████████████████████████████████████████████████████████████████████████████████████████████████████████████| 1.16G/1.16G [12:29<00:00, 1.66MB/s]\n",
      "Downloading: 100%|██████████████████████████████████████████████████████████████████████████████████████████████████████████████████| 6.71k/6.71k [00:01<00:00, 6.03kB/s]\n",
      "Downloading: 100%|████████████████████████████████████████████████████████████████████████████████████████████████████████████████████| 498M/498M [06:05<00:00, 1.43MB/s]\n",
      "Downloading: 100%|███████████████████████████████████████████████████████████████████████████████████████████████████████████████████| 1.26M/1.26M [00:04<00:00, 317kB/s]\n",
      "/opt/conda/lib/python3.8/site-packages/torch/_jit_internal.py:726: FutureWarning: ignore(True) has been deprecated. TorchScript will now drop the function call on compilation. Use torch.jit.unused now. {}\n",
      "  warnings.warn(\n",
      "/opt/conda/lib/python3.8/site-packages/tqdm/auto.py:21: TqdmWarning: IProgress not found. Please update jupyter and ipywidgets. See https://ipywidgets.readthedocs.io/en/stable/user_install.html\n",
      "  from .autonotebook import tqdm as notebook_tqdm\n",
      "/opt/conda/lib/python3.8/site-packages/diffusers/models/lora.py:393: FutureWarning: `LoRACompatibleLinear` is deprecated and will be removed in version 1.0.0. Use of `LoRACompatibleLinear` is deprecated. Please switch to PEFT backend by installing PEFT: `pip install peft`.\n",
      "  deprecate(\"LoRACompatibleLinear\", \"1.0.0\", deprecation_message)\n",
      "2024-07-16 19:50:20.418880466 [E:onnxruntime:Default, provider_bridge_ort.cc:1480 TryGetProviderInfo_CUDA] /onnxruntime_src/onnxruntime/core/session/provider_bridge_ort.cc:1193 onnxruntime::Provider& onnxruntime::ProviderLibrary::Get() [ONNXRuntimeError] : 1 : FAIL : Failed to load library libonnxruntime_providers_cuda.so with error: libcurand.so.10: cannot open shared object file: No such file or directory\n",
      "\n",
      "2024-07-16 19:50:20.438590576 [W:onnxruntime:Default, onnxruntime_pybind_state.cc:743 CreateExecutionProviderInstance] Failed to create CUDAExecutionProvider. Please reference https://onnxruntime.ai/docs/execution-providers/CUDA-ExecutionProvider.html#requirements to ensure all dependencies are met.\n"
     ]
    },
    {
     "ename": "AssertionError",
     "evalue": "failed to initialize ttsfrd resource",
     "output_type": "error",
     "traceback": [
      "\u001b[0;31m---------------------------------------------------------------------------\u001b[0m",
      "\u001b[0;31mAssertionError\u001b[0m                            Traceback (most recent call last)",
      "Cell \u001b[0;32mIn[3], line 2\u001b[0m\n\u001b[1;32m      1\u001b[0m speaker_name \u001b[38;5;241m=\u001b[39m \u001b[38;5;124m'\u001b[39m\u001b[38;5;124m中文女\u001b[39m\u001b[38;5;124m'\u001b[39m\n\u001b[0;32m----> 2\u001b[0m cosyvoice \u001b[38;5;241m=\u001b[39m \u001b[43mCosyVoice\u001b[49m\u001b[43m(\u001b[49m\u001b[38;5;124;43m'\u001b[39;49m\u001b[38;5;124;43mspeech_tts/CosyVoice-300M-Instruct\u001b[39;49m\u001b[38;5;124;43m'\u001b[39;49m\u001b[43m)\u001b[49m\n\u001b[1;32m      3\u001b[0m asr_model_name_or_path \u001b[38;5;241m=\u001b[39m \u001b[38;5;124m\"\u001b[39m\u001b[38;5;124miic/SenseVoiceSmall\u001b[39m\u001b[38;5;124m\"\u001b[39m\n\u001b[1;32m      4\u001b[0m sense_voice_model \u001b[38;5;241m=\u001b[39m AutoModel(model\u001b[38;5;241m=\u001b[39masr_model_name_or_path,\n\u001b[1;32m      5\u001b[0m                   vad_model\u001b[38;5;241m=\u001b[39m\u001b[38;5;124m\"\u001b[39m\u001b[38;5;124mfsmn-vad\u001b[39m\u001b[38;5;124m\"\u001b[39m,\n\u001b[1;32m      6\u001b[0m                   vad_kwargs\u001b[38;5;241m=\u001b[39m{\u001b[38;5;124m\"\u001b[39m\u001b[38;5;124mmax_single_segment_time\u001b[39m\u001b[38;5;124m\"\u001b[39m: \u001b[38;5;241m30000\u001b[39m},\n\u001b[1;32m      7\u001b[0m                   trust_remote_code\u001b[38;5;241m=\u001b[39m\u001b[38;5;28;01mTrue\u001b[39;00m, device\u001b[38;5;241m=\u001b[39m\u001b[38;5;124m\"\u001b[39m\u001b[38;5;124mcuda:0\u001b[39m\u001b[38;5;124m\"\u001b[39m, remote_code\u001b[38;5;241m=\u001b[39m\u001b[38;5;124m\"\u001b[39m\u001b[38;5;124m./sensevoice/model.py\u001b[39m\u001b[38;5;124m\"\u001b[39m)\n",
      "File \u001b[0;32m/home/jovyan/work/notebooks/../cosyvoice/cosyvoice/cli/cosyvoice.py:30\u001b[0m, in \u001b[0;36mCosyVoice.__init__\u001b[0;34m(self, model_dir)\u001b[0m\n\u001b[1;32m     28\u001b[0m \u001b[38;5;28;01mwith\u001b[39;00m \u001b[38;5;28mopen\u001b[39m(\u001b[38;5;124m'\u001b[39m\u001b[38;5;132;01m{}\u001b[39;00m\u001b[38;5;124m/cosyvoice.yaml\u001b[39m\u001b[38;5;124m'\u001b[39m\u001b[38;5;241m.\u001b[39mformat(model_dir), \u001b[38;5;124m'\u001b[39m\u001b[38;5;124mr\u001b[39m\u001b[38;5;124m'\u001b[39m) \u001b[38;5;28;01mas\u001b[39;00m f:\n\u001b[1;32m     29\u001b[0m     configs \u001b[38;5;241m=\u001b[39m load_hyperpyyaml(f)\n\u001b[0;32m---> 30\u001b[0m \u001b[38;5;28mself\u001b[39m\u001b[38;5;241m.\u001b[39mfrontend \u001b[38;5;241m=\u001b[39m \u001b[43mCosyVoiceFrontEnd\u001b[49m\u001b[43m(\u001b[49m\u001b[43mconfigs\u001b[49m\u001b[43m[\u001b[49m\u001b[38;5;124;43m'\u001b[39;49m\u001b[38;5;124;43mget_tokenizer\u001b[39;49m\u001b[38;5;124;43m'\u001b[39;49m\u001b[43m]\u001b[49m\u001b[43m,\u001b[49m\n\u001b[1;32m     31\u001b[0m \u001b[43m                                  \u001b[49m\u001b[43mconfigs\u001b[49m\u001b[43m[\u001b[49m\u001b[38;5;124;43m'\u001b[39;49m\u001b[38;5;124;43mfeat_extractor\u001b[39;49m\u001b[38;5;124;43m'\u001b[39;49m\u001b[43m]\u001b[49m\u001b[43m,\u001b[49m\n\u001b[1;32m     32\u001b[0m \u001b[43m                                  \u001b[49m\u001b[38;5;124;43m'\u001b[39;49m\u001b[38;5;132;43;01m{}\u001b[39;49;00m\u001b[38;5;124;43m/campplus.onnx\u001b[39;49m\u001b[38;5;124;43m'\u001b[39;49m\u001b[38;5;241;43m.\u001b[39;49m\u001b[43mformat\u001b[49m\u001b[43m(\u001b[49m\u001b[43mmodel_dir\u001b[49m\u001b[43m)\u001b[49m\u001b[43m,\u001b[49m\n\u001b[1;32m     33\u001b[0m \u001b[43m                                  \u001b[49m\u001b[38;5;124;43m'\u001b[39;49m\u001b[38;5;132;43;01m{}\u001b[39;49;00m\u001b[38;5;124;43m/speech_tokenizer_v1.onnx\u001b[39;49m\u001b[38;5;124;43m'\u001b[39;49m\u001b[38;5;241;43m.\u001b[39;49m\u001b[43mformat\u001b[49m\u001b[43m(\u001b[49m\u001b[43mmodel_dir\u001b[49m\u001b[43m)\u001b[49m\u001b[43m,\u001b[49m\n\u001b[1;32m     34\u001b[0m \u001b[43m                                  \u001b[49m\u001b[38;5;124;43m'\u001b[39;49m\u001b[38;5;132;43;01m{}\u001b[39;49;00m\u001b[38;5;124;43m/spk2info.pt\u001b[39;49m\u001b[38;5;124;43m'\u001b[39;49m\u001b[38;5;241;43m.\u001b[39;49m\u001b[43mformat\u001b[49m\u001b[43m(\u001b[49m\u001b[43mmodel_dir\u001b[49m\u001b[43m)\u001b[49m\u001b[43m,\u001b[49m\n\u001b[1;32m     35\u001b[0m \u001b[43m                                  \u001b[49m\u001b[43minstruct\u001b[49m\u001b[43m,\u001b[49m\n\u001b[1;32m     36\u001b[0m \u001b[43m                                  \u001b[49m\u001b[43mconfigs\u001b[49m\u001b[43m[\u001b[49m\u001b[38;5;124;43m'\u001b[39;49m\u001b[38;5;124;43mallowed_special\u001b[39;49m\u001b[38;5;124;43m'\u001b[39;49m\u001b[43m]\u001b[49m\u001b[43m)\u001b[49m\n\u001b[1;32m     37\u001b[0m \u001b[38;5;28mself\u001b[39m\u001b[38;5;241m.\u001b[39mmodel \u001b[38;5;241m=\u001b[39m CosyVoiceModel(configs[\u001b[38;5;124m'\u001b[39m\u001b[38;5;124mllm\u001b[39m\u001b[38;5;124m'\u001b[39m], configs[\u001b[38;5;124m'\u001b[39m\u001b[38;5;124mflow\u001b[39m\u001b[38;5;124m'\u001b[39m], configs[\u001b[38;5;124m'\u001b[39m\u001b[38;5;124mhift\u001b[39m\u001b[38;5;124m'\u001b[39m])\n\u001b[1;32m     38\u001b[0m \u001b[38;5;28mself\u001b[39m\u001b[38;5;241m.\u001b[39mmodel\u001b[38;5;241m.\u001b[39mload(\u001b[38;5;124m'\u001b[39m\u001b[38;5;132;01m{}\u001b[39;00m\u001b[38;5;124m/llm.pt\u001b[39m\u001b[38;5;124m'\u001b[39m\u001b[38;5;241m.\u001b[39mformat(model_dir),\n\u001b[1;32m     39\u001b[0m                 \u001b[38;5;124m'\u001b[39m\u001b[38;5;132;01m{}\u001b[39;00m\u001b[38;5;124m/flow.pt\u001b[39m\u001b[38;5;124m'\u001b[39m\u001b[38;5;241m.\u001b[39mformat(model_dir),\n\u001b[1;32m     40\u001b[0m                 \u001b[38;5;124m'\u001b[39m\u001b[38;5;132;01m{}\u001b[39;00m\u001b[38;5;124m/hift.pt\u001b[39m\u001b[38;5;124m'\u001b[39m\u001b[38;5;241m.\u001b[39mformat(model_dir))\n",
      "File \u001b[0;32m/home/jovyan/work/notebooks/../cosyvoice/cosyvoice/cli/frontend.py:53\u001b[0m, in \u001b[0;36mCosyVoiceFrontEnd.__init__\u001b[0;34m(self, get_tokenizer, feat_extractor, campplus_model, speech_tokenizer_model, spk2info, instruct, allowed_special)\u001b[0m\n\u001b[1;32m     51\u001b[0m \u001b[38;5;28mself\u001b[39m\u001b[38;5;241m.\u001b[39mfrd \u001b[38;5;241m=\u001b[39m ttsfrd\u001b[38;5;241m.\u001b[39mTtsFrontendEngine()\n\u001b[1;32m     52\u001b[0m ROOT_DIR \u001b[38;5;241m=\u001b[39m os\u001b[38;5;241m.\u001b[39mpath\u001b[38;5;241m.\u001b[39mdirname(os\u001b[38;5;241m.\u001b[39mpath\u001b[38;5;241m.\u001b[39mabspath(\u001b[38;5;18m__file__\u001b[39m))\n\u001b[0;32m---> 53\u001b[0m \u001b[38;5;28;01massert\u001b[39;00m \u001b[38;5;28mself\u001b[39m\u001b[38;5;241m.\u001b[39mfrd\u001b[38;5;241m.\u001b[39minitialize(\u001b[38;5;124m'\u001b[39m\u001b[38;5;132;01m{}\u001b[39;00m\u001b[38;5;124m/../../pretrained_models/speech_kantts_ttsfrd/resource\u001b[39m\u001b[38;5;124m'\u001b[39m\u001b[38;5;241m.\u001b[39mformat(ROOT_DIR)) \u001b[38;5;129;01mis\u001b[39;00m \u001b[38;5;28;01mTrue\u001b[39;00m, \u001b[38;5;124m'\u001b[39m\u001b[38;5;124mfailed to initialize ttsfrd resource\u001b[39m\u001b[38;5;124m'\u001b[39m\n\u001b[1;32m     54\u001b[0m \u001b[38;5;28mself\u001b[39m\u001b[38;5;241m.\u001b[39mfrd\u001b[38;5;241m.\u001b[39mset_lang_type(\u001b[38;5;124m'\u001b[39m\u001b[38;5;124mpinyin\u001b[39m\u001b[38;5;124m'\u001b[39m)\n\u001b[1;32m     55\u001b[0m \u001b[38;5;28mself\u001b[39m\u001b[38;5;241m.\u001b[39mfrd\u001b[38;5;241m.\u001b[39menable_pinyin_mix(\u001b[38;5;28;01mTrue\u001b[39;00m)\n",
      "\u001b[0;31mAssertionError\u001b[0m: failed to initialize ttsfrd resource"
     ]
    }
   ],
   "source": [
    "speaker_name = '中文女'\n",
    "cosyvoice = CosyVoice('speech_tts/CosyVoice-300M-Instruct')\n",
    "asr_model_name_or_path = \"iic/SenseVoiceSmall\"\n",
    "sense_voice_model = AutoModel(model=asr_model_name_or_path,\n",
    "                  vad_model=\"fsmn-vad\",\n",
    "                  vad_kwargs={\"max_single_segment_time\": 30000},\n",
    "                  trust_remote_code=True, device=\"cuda:0\", remote_code=\"./sensevoice/model.py\")\n"
   ]
  },
  {
   "cell_type": "markdown",
   "id": "834e30ad-5796-4a88-9227-51ec5afbaefe",
   "metadata": {},
   "source": [
    "# Ugh, requires CUDA"
   ]
  },
  {
   "cell_type": "code",
   "execution_count": null,
   "id": "0b1cf8a5-68c5-4bdf-9ed2-053ee51390b4",
   "metadata": {},
   "outputs": [],
   "source": [
    "cosyvoice = CosyVoice('speech_tts/CosyVoice-300M-Instruct')\n",
    "# instruct usage\n",
    "output = cosyvoice.inference_instruct('在面对挑战时，他展现了非凡的<strong>勇气</strong>与<strong>智慧</strong>。', '中文男', 'Theo \\'Crimson\\', is a fiery, passionate rebel leader. Fights with fervor for justice, but struggles with impulsiveness.')\n",
    "torchaudio.save('instruct.wav', output['tts_speech'], 22050)"
   ]
  },
  {
   "cell_type": "code",
   "execution_count": null,
   "id": "2eb5d4d5-2529-4c31-84f6-0c072bc97a7b",
   "metadata": {},
   "outputs": [],
   "source": []
  },
  {
   "cell_type": "code",
   "execution_count": null,
   "id": "a55e8c2c-9261-40a6-b87b-c1379c425f02",
   "metadata": {},
   "outputs": [],
   "source": [
    "cosyvoice = CosyVoice('speech_tts/CosyVoice-300M-SFT')\n",
    "# sft usage\n",
    "print(cosyvoice.list_avaliable_spks())\n",
    "output = cosyvoice.inference_sft('你好，我是通义生成式语音大模型，请问有什么可以帮您的吗？', '中文女')\n",
    "torchaudio.save('sft.wav', output['tts_speech'], 22050)"
   ]
  }
 ],
 "metadata": {
  "kernelspec": {
   "display_name": "Python 3 (ipykernel)",
   "language": "python",
   "name": "python3"
  },
  "language_info": {
   "codemirror_mode": {
    "name": "ipython",
    "version": 3
   },
   "file_extension": ".py",
   "mimetype": "text/x-python",
   "name": "python",
   "nbconvert_exporter": "python",
   "pygments_lexer": "ipython3",
   "version": "3.8.19"
  }
 },
 "nbformat": 4,
 "nbformat_minor": 5
}
